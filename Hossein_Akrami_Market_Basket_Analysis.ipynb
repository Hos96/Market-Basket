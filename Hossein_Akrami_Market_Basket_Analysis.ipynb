{
  "nbformat": 4,
  "nbformat_minor": 0,
  "metadata": {
    "colab": {
      "provenance": [],
      "authorship_tag": "ABX9TyMnu1DDlC3sDnjY9XkjR/KS",
      "include_colab_link": true
    },
    "kernelspec": {
      "name": "python3",
      "display_name": "Python 3"
    },
    "language_info": {
      "name": "python"
    }
  },
  "cells": [
    {
      "cell_type": "markdown",
      "metadata": {
        "id": "view-in-github",
        "colab_type": "text"
      },
      "source": [
        "<a href=\"https://colab.research.google.com/github/Hos96/Market-Basket/blob/main/Hossein_Akrami_Market_Basket_Analysis.ipynb\" target=\"_parent\"><img src=\"https://colab.research.google.com/assets/colab-badge.svg\" alt=\"Open In Colab\"/></a>"
      ]
    },
    {
      "cell_type": "markdown",
      "source": [
        "Hossein Akrami, Market basket analysis"
      ],
      "metadata": {
        "id": "hciNWg2wwSYe"
      }
    },
    {
      "cell_type": "code",
      "execution_count": 1,
      "metadata": {
        "colab": {
          "base_uri": "https://localhost:8080/"
        },
        "id": "cf1KmowWwRzq",
        "outputId": "1fbfedde-10d8-437a-854e-a9eda6538b1b"
      },
      "outputs": [
        {
          "output_type": "stream",
          "name": "stdout",
          "text": [
            "Collecting pyspark==3.2.0\n",
            "  Downloading pyspark-3.2.0.tar.gz (281.3 MB)\n",
            "\u001b[2K     \u001b[90m━━━━━━━━━━━━━━━━━━━━━━━━━━━━━━━━━━━━━━━━\u001b[0m \u001b[32m281.3/281.3 MB\u001b[0m \u001b[31m4.2 MB/s\u001b[0m eta \u001b[36m0:00:00\u001b[0m\n",
            "\u001b[?25h  Preparing metadata (setup.py) ... \u001b[?25l\u001b[?25hdone\n",
            "Collecting py4j==0.10.9.2 (from pyspark==3.2.0)\n",
            "  Downloading py4j-0.10.9.2-py2.py3-none-any.whl.metadata (1.3 kB)\n",
            "Downloading py4j-0.10.9.2-py2.py3-none-any.whl (198 kB)\n",
            "\u001b[2K   \u001b[90m━━━━━━━━━━━━━━━━━━━━━━━━━━━━━━━━━━━━━━━━\u001b[0m \u001b[32m198.8/198.8 kB\u001b[0m \u001b[31m14.5 MB/s\u001b[0m eta \u001b[36m0:00:00\u001b[0m\n",
            "\u001b[?25hBuilding wheels for collected packages: pyspark\n",
            "  Building wheel for pyspark (setup.py) ... \u001b[?25l\u001b[?25hdone\n",
            "  Created wheel for pyspark: filename=pyspark-3.2.0-py2.py3-none-any.whl size=281805891 sha256=3dc587b190a664df13e19e69de649fe28e42ed1095cfa820c7de629075b69921\n",
            "  Stored in directory: /root/.cache/pip/wheels/32/97/d3/8b6d964c8700e4fbb561c71638a92ec55dac9be51eb5fea86d\n",
            "Successfully built pyspark\n",
            "Installing collected packages: py4j, pyspark\n",
            "  Attempting uninstall: py4j\n",
            "    Found existing installation: py4j 0.10.9.7\n",
            "    Uninstalling py4j-0.10.9.7:\n",
            "      Successfully uninstalled py4j-0.10.9.7\n",
            "Successfully installed py4j-0.10.9.2 pyspark-3.2.0\n",
            "Requirement already satisfied: mlxtend in /usr/local/lib/python3.10/dist-packages (0.23.1)\n",
            "Requirement already satisfied: scipy>=1.2.1 in /usr/local/lib/python3.10/dist-packages (from mlxtend) (1.13.1)\n",
            "Requirement already satisfied: numpy>=1.16.2 in /usr/local/lib/python3.10/dist-packages (from mlxtend) (1.26.4)\n",
            "Requirement already satisfied: pandas>=0.24.2 in /usr/local/lib/python3.10/dist-packages (from mlxtend) (2.1.4)\n",
            "Requirement already satisfied: scikit-learn>=1.0.2 in /usr/local/lib/python3.10/dist-packages (from mlxtend) (1.3.2)\n",
            "Requirement already satisfied: matplotlib>=3.0.0 in /usr/local/lib/python3.10/dist-packages (from mlxtend) (3.7.1)\n",
            "Requirement already satisfied: joblib>=0.13.2 in /usr/local/lib/python3.10/dist-packages (from mlxtend) (1.4.2)\n",
            "Requirement already satisfied: contourpy>=1.0.1 in /usr/local/lib/python3.10/dist-packages (from matplotlib>=3.0.0->mlxtend) (1.3.0)\n",
            "Requirement already satisfied: cycler>=0.10 in /usr/local/lib/python3.10/dist-packages (from matplotlib>=3.0.0->mlxtend) (0.12.1)\n",
            "Requirement already satisfied: fonttools>=4.22.0 in /usr/local/lib/python3.10/dist-packages (from matplotlib>=3.0.0->mlxtend) (4.53.1)\n",
            "Requirement already satisfied: kiwisolver>=1.0.1 in /usr/local/lib/python3.10/dist-packages (from matplotlib>=3.0.0->mlxtend) (1.4.5)\n",
            "Requirement already satisfied: packaging>=20.0 in /usr/local/lib/python3.10/dist-packages (from matplotlib>=3.0.0->mlxtend) (24.1)\n",
            "Requirement already satisfied: pillow>=6.2.0 in /usr/local/lib/python3.10/dist-packages (from matplotlib>=3.0.0->mlxtend) (9.4.0)\n",
            "Requirement already satisfied: pyparsing>=2.3.1 in /usr/local/lib/python3.10/dist-packages (from matplotlib>=3.0.0->mlxtend) (3.1.4)\n",
            "Requirement already satisfied: python-dateutil>=2.7 in /usr/local/lib/python3.10/dist-packages (from matplotlib>=3.0.0->mlxtend) (2.8.2)\n",
            "Requirement already satisfied: pytz>=2020.1 in /usr/local/lib/python3.10/dist-packages (from pandas>=0.24.2->mlxtend) (2024.1)\n",
            "Requirement already satisfied: tzdata>=2022.1 in /usr/local/lib/python3.10/dist-packages (from pandas>=0.24.2->mlxtend) (2024.1)\n",
            "Requirement already satisfied: threadpoolctl>=2.0.0 in /usr/local/lib/python3.10/dist-packages (from scikit-learn>=1.0.2->mlxtend) (3.5.0)\n",
            "Requirement already satisfied: six>=1.5 in /usr/local/lib/python3.10/dist-packages (from python-dateutil>=2.7->matplotlib>=3.0.0->mlxtend) (1.16.0)\n",
            "Requirement already satisfied: wordcloud in /usr/local/lib/python3.10/dist-packages (1.9.3)\n",
            "Requirement already satisfied: numpy>=1.6.1 in /usr/local/lib/python3.10/dist-packages (from wordcloud) (1.26.4)\n",
            "Requirement already satisfied: pillow in /usr/local/lib/python3.10/dist-packages (from wordcloud) (9.4.0)\n",
            "Requirement already satisfied: matplotlib in /usr/local/lib/python3.10/dist-packages (from wordcloud) (3.7.1)\n",
            "Requirement already satisfied: contourpy>=1.0.1 in /usr/local/lib/python3.10/dist-packages (from matplotlib->wordcloud) (1.3.0)\n",
            "Requirement already satisfied: cycler>=0.10 in /usr/local/lib/python3.10/dist-packages (from matplotlib->wordcloud) (0.12.1)\n",
            "Requirement already satisfied: fonttools>=4.22.0 in /usr/local/lib/python3.10/dist-packages (from matplotlib->wordcloud) (4.53.1)\n",
            "Requirement already satisfied: kiwisolver>=1.0.1 in /usr/local/lib/python3.10/dist-packages (from matplotlib->wordcloud) (1.4.5)\n",
            "Requirement already satisfied: packaging>=20.0 in /usr/local/lib/python3.10/dist-packages (from matplotlib->wordcloud) (24.1)\n",
            "Requirement already satisfied: pyparsing>=2.3.1 in /usr/local/lib/python3.10/dist-packages (from matplotlib->wordcloud) (3.1.4)\n",
            "Requirement already satisfied: python-dateutil>=2.7 in /usr/local/lib/python3.10/dist-packages (from matplotlib->wordcloud) (2.8.2)\n",
            "Requirement already satisfied: six>=1.5 in /usr/local/lib/python3.10/dist-packages (from python-dateutil>=2.7->matplotlib->wordcloud) (1.16.0)\n",
            "Requirement already satisfied: kaggle in /usr/local/lib/python3.10/dist-packages (1.6.17)\n",
            "Requirement already satisfied: six>=1.10 in /usr/local/lib/python3.10/dist-packages (from kaggle) (1.16.0)\n",
            "Requirement already satisfied: certifi>=2023.7.22 in /usr/local/lib/python3.10/dist-packages (from kaggle) (2024.8.30)\n",
            "Requirement already satisfied: python-dateutil in /usr/local/lib/python3.10/dist-packages (from kaggle) (2.8.2)\n",
            "Requirement already satisfied: requests in /usr/local/lib/python3.10/dist-packages (from kaggle) (2.32.3)\n",
            "Requirement already satisfied: tqdm in /usr/local/lib/python3.10/dist-packages (from kaggle) (4.66.5)\n",
            "Requirement already satisfied: python-slugify in /usr/local/lib/python3.10/dist-packages (from kaggle) (8.0.4)\n",
            "Requirement already satisfied: urllib3 in /usr/local/lib/python3.10/dist-packages (from kaggle) (2.0.7)\n",
            "Requirement already satisfied: bleach in /usr/local/lib/python3.10/dist-packages (from kaggle) (6.1.0)\n",
            "Requirement already satisfied: webencodings in /usr/local/lib/python3.10/dist-packages (from bleach->kaggle) (0.5.1)\n",
            "Requirement already satisfied: text-unidecode>=1.3 in /usr/local/lib/python3.10/dist-packages (from python-slugify->kaggle) (1.3)\n",
            "Requirement already satisfied: charset-normalizer<4,>=2 in /usr/local/lib/python3.10/dist-packages (from requests->kaggle) (3.3.2)\n",
            "Requirement already satisfied: idna<4,>=2.5 in /usr/local/lib/python3.10/dist-packages (from requests->kaggle) (3.8)\n"
          ]
        }
      ],
      "source": [
        "!pip install pyspark==3.2.0\n",
        "!pip install  mlxtend\n",
        "!pip install wordcloud\n",
        "!pip install kaggle"
      ]
    },
    {
      "cell_type": "code",
      "source": [
        "import os"
      ],
      "metadata": {
        "id": "uSo1IZUewhpA"
      },
      "execution_count": 2,
      "outputs": []
    },
    {
      "cell_type": "code",
      "source": [
        "from pyspark.sql import SparkSession\n",
        "\n",
        "\n",
        "spark = SparkSession.builder \\\n",
        "    .appName(\"MarketBasketAnalysis\") \\\n",
        "    .config(\"spark.driver.memory\", \"100g\") \\\n",
        "    .config(\"spark.executor.memory\", \"12g\") \\\n",
        "    .getOrCreate()"
      ],
      "metadata": {
        "id": "-cU6ecESwo7F"
      },
      "execution_count": 3,
      "outputs": []
    },
    {
      "cell_type": "code",
      "source": [
        "import time\n",
        "from datetime import datetime\n",
        "\n",
        "# Defining a function to print time of running each block of code\n",
        "def timing_info(start_time, step_name):\n",
        "    end_time = time.time()\n",
        "    elapsed_time = end_time - start_time\n",
        "    minutes, seconds = divmod(elapsed_time, 60)\n",
        "    start_time_str = datetime.fromtimestamp(start_time).strftime('%Y-%m-%d %H:%M:%S')\n",
        "    print(f\"{step_name} time: {int(minutes)}min {int(seconds)}s (started: {start_time_str})\")"
      ],
      "metadata": {
        "id": "dvioDweUw7YE"
      },
      "execution_count": 4,
      "outputs": []
    },
    {
      "cell_type": "code",
      "source": [
        "# Download from  Kaggle\n",
        "os.environ['KAGGLE_USERNAME'] = \"xxxxxxx\"\n",
        "os.environ['KAGGLE_KEY'] = \"xxxxxxx\"\n",
        "!kaggle datasets download -d asaniczka/1-3m-linkedin-jobs-and-skills-2024"
      ],
      "metadata": {
        "colab": {
          "base_uri": "https://localhost:8080/"
        },
        "id": "Dxo7YYinwt9O",
        "outputId": "36b133a1-ad1b-4bfc-a081-8224168ce813"
      },
      "execution_count": 5,
      "outputs": [
        {
          "output_type": "stream",
          "name": "stdout",
          "text": [
            "Dataset URL: https://www.kaggle.com/datasets/asaniczka/1-3m-linkedin-jobs-and-skills-2024\n",
            "License(s): ODC Attribution License (ODC-By)\n",
            "Downloading 1-3m-linkedin-jobs-and-skills-2024.zip to /content\n",
            "100% 1.88G/1.88G [00:26<00:00, 140MB/s]\n",
            "100% 1.88G/1.88G [00:26<00:00, 76.0MB/s]\n"
          ]
        }
      ]
    },
    {
      "cell_type": "code",
      "source": [
        "# Unzipping the dataset\n",
        "!unzip -q 1-3m-linkedin-jobs-and-skills-2024.zip\n",
        "#Spark DataFrame\n",
        "df = spark.read.option(\"header\", \"true\").csv(\"job_skills.csv\")\n",
        "\n",
        "df.show(10)"
      ],
      "metadata": {
        "colab": {
          "base_uri": "https://localhost:8080/"
        },
        "id": "TMU0MkbXwx6c",
        "outputId": "f38b6d21-8be9-4da5-c2b0-bdf26079e45d"
      },
      "execution_count": 6,
      "outputs": [
        {
          "output_type": "stream",
          "name": "stdout",
          "text": [
            "+--------------------+--------------------+\n",
            "|            job_link|          job_skills|\n",
            "+--------------------+--------------------+\n",
            "|https://www.linke...|Building Custodia...|\n",
            "|https://www.linke...|Customer service,...|\n",
            "|https://www.linke...|Applied Behavior ...|\n",
            "|https://www.linke...|Electrical Engine...|\n",
            "|https://www.linke...|Electrical Assemb...|\n",
            "|https://www.linke...|Access Control, V...|\n",
            "|https://www.linke...|Consultation, Sup...|\n",
            "|https://www.linke...|Veterinary Recept...|\n",
            "|https://www.linke...|Optical Inspectio...|\n",
            "|https://www.linke...|HVAC, troubleshoo...|\n",
            "+--------------------+--------------------+\n",
            "only showing top 10 rows\n",
            "\n"
          ]
        }
      ]
    },
    {
      "cell_type": "code",
      "source": [
        "print(df.head(10))"
      ],
      "metadata": {
        "colab": {
          "base_uri": "https://localhost:8080/"
        },
        "id": "n7jEiY3c2FQo",
        "outputId": "5789a22f-7f8d-46d0-f77c-4108cf404170"
      },
      "execution_count": 7,
      "outputs": [
        {
          "output_type": "stream",
          "name": "stdout",
          "text": [
            "[Row(job_link='https://www.linkedin.com/jobs/view/housekeeper-i-pt-at-jacksonville-state-university-3802280436', job_skills='Building Custodial Services, Cleaning, Janitorial Services, Materials Handling, Housekeeping, Sanitation, Waste Management, Floor Maintenance, Equipment Maintenance, Safety Protocols, Communication Skills, Attention to Detail, Physical Strength, Experience in Housekeeping'), Row(job_link='https://www.linkedin.com/jobs/view/assistant-general-manager-huntington-4131-at-ruby-tuesday-3575032747', job_skills=\"Customer service, Restaurant management, Food safety, Training, Supervision, Scheduling, Inventory, Cost control, Sales, Communication, Problemsolving, Leadership, Motivation, Teamwork, High School Diploma, Bachelor's Degree, ServSafe Certification, Valid Driver's License, Physical ability to perform job duties\"), Row(job_link='https://www.linkedin.com/jobs/view/school-based-behavior-analyst-at-ccres-educational-and-behavioral-health-services-3739544400', job_skills='Applied Behavior Analysis (ABA), Data analysis, Behavioral assessment, Positive behavior support, Programming development, Progress monitoring, Staff training, Verbal communication, Written communication, Team collaboration, Autism, Emotional/behavioral disorders, Intellectual disabilities, BCBA certification, Masters degree, Professional liability insurance, Clearances (Act 151 Act 34 FBI Use code: 1KG6XN), TB screening, Independent contractor, 1099'), Row(job_link='https://www.linkedin.com/jobs/view/electrical-deputy-engineering-group-supervisor-at-energy-jobline-3773709557', job_skills='Electrical Engineering, Project Controls, Scheduling, Estimating, Engineering Efforts, Planning, Work Packaging, Communication Skills, Verbal Communication, Written Communication, Engineering Tools, Office Automation Tools, Industry Guides, Regulatory Guides, Codes, Standards, Electrical Engineering Design Principles, Electrical Systems, Schematics, Layouts, Engineering Drawings, Systems Calculations, Equipment Sizing, Cable Sizing, Power Systems Load Modeling, Power Systems Analysis, Revit, ETAP, Equipment Configuration Packages, Mechanical Engineering, Process Engineering, CSI Masterformat Specifications, SpecsIntact, Unified Facilities Criteria, Whole Building Design Guide'), Row(job_link='https://www.linkedin.com/jobs/view/electrical-assembly-lead-at-sanmina-3704300377', job_skills='Electrical Assembly, Point to point wiring, Stripping and crimping of wiring, Reading blueprints and SOPs, Leadership skills, Communication skills, Directing and training employees, Problem solving, Excellent attendance, 46 years of related experience, High School or GED'), Row(job_link='https://www.linkedin.com/jobs/view/senior-lead-technician-programmer-at-security-101-3785441848', job_skills='Access Control, Video Management Systems, IPbased video systems, Intrusion Alarm Systems, SQL, Databases, Genetec, Software House, Avigilon Unity, Avigilon Alta, Brivo, Milestone, SIP IP Phone Systems, Quality Control, Customer Service, Project Progress Tracking, Electronics Training, Technical School, Military Training'), Row(job_link='https://www.linkedin.com/jobs/view/program-consultant-at-methodist-family-health-3588621456', job_skills='Consultation, Supervision, InService Training, PreService Training, Youth Intake, Individual Treatment Plans, Program Development, Data Collection, Quality Control Programs, Performance Evaluations, Staff Recruitment and Selection, Emergency Consultation, Quality Improvement, Joint Commission Standards, TFM Certification, SelfMotivation, High Stress Tolerance, Fast Paced Work Environment, Minimal Supervision, Auditory Ability, Visual Ability, Olfactory Ability, Physical Stamina, Computer Literacy, Communication Skills, Reading and Writing Skills, Clinical Duties, COVID19 Vaccination, Flu Shot'), Row(job_link='https://www.linkedin.com/jobs/view/veterinary-receptionist-at-wellhaven-pet-health-3803807922', job_skills='Veterinary Receptionist, AAHAaccredited, Customer service, Communication skills, Organizational skills, Problemsolving skills, Time management skills, Ability to work independently, Ability to multitask, Ability to work in a fastpaced environment, Ability to learn new computer software systems, Ability to handle dogs cats and exotic animals, Typing 40+ wpm, Email systems, Basic MS Office products (Word Excel), High School Diploma or equivalent, 1+ years of customer service experience, 1+ years of experience working with computers, Veterinary experience, Ability to lift 25+ pounds, Ability to stand walk stoop kneel crouch and climb, Ability to work extended hours including weekends and holidays'), Row(job_link='https://www.linkedin.com/jobs/view/sr-technician-receiving-inspection-at-abbott-3799867135', job_skills='Optical Inspection Equipment Programming, MS Excel, Microsoft Word, FDA regulations, ISO 13485, Gage R&R, NCMR dispositioning, Blueprint reading, Sampling techniques, GD&T, PCB inspection, Quality Systems, Calibration, Test methods, ASQ CQT certification, Data analysis, Report writing'), Row(job_link='https://www.linkedin.com/jobs/view/experienced-hvac-service-technician-at-lane-valente-industries-3798208587', job_skills='HVAC, troubleshooting, Preventative maintenance, Inspections, Repairs, Record keeping, Parts management, Time management, Travel')]\n"
          ]
        }
      ]
    },
    {
      "cell_type": "code",
      "source": [
        "import string\n",
        "import re\n",
        "import nltk\n",
        "from nltk.corpus import stopwords\n",
        "from pyspark.sql.functions import udf, col, split\n",
        "from pyspark.sql.types import ArrayType, StringType\n",
        "\n",
        "nltk.download('stopwords')\n",
        "\n",
        "\n",
        "\n",
        "# Split the job_skills column by ', ' to create the skills column\n",
        "df = df.withColumn(\"skills\", split(col(\"job_skills\"), \", \"))\n",
        "\n",
        "# Set up additional stopwords and initialize nltk stopwords\n",
        "additional_stopwords = {\"''\", \"...\", \"``\", \"--\"}\n",
        "stop_words = set(stopwords.words('english'))\n",
        "stop_words.update(additional_stopwords)\n",
        "\n",
        "def preprocess_skills(skills):\n",
        "    if skills is None:\n",
        "        return []\n",
        "\n",
        "    punctuation = string.punctuation + \"–\"\n",
        "    cleaned_skills = []\n",
        "\n",
        "    for skill in skills:\n",
        "        # Split skill by standalone \"and\" to process each part separately\n",
        "        skill_parts = re.split(r'\\band\\b', skill)\n",
        "        # Split multi-word skills into parts and processing them seperately\n",
        "        for part in skill_parts:\n",
        "\n",
        "            part = ''.join([char for char in part if char not in punctuation])\n",
        "            part = part.lower()\n",
        "            part = re.sub(r'[^a-z\\s]', '', part)\n",
        "            part = re.sub(r'\\s+', ' ', part).strip()\n",
        "            tokens = part.split()\n",
        "            tokens = [word for word in tokens if word not in stop_words and re.match(\"^[a-zA-Z]+$\", word)]\n",
        "\n",
        "            cleaned_skill = \" \".join(tokens).strip()\n",
        "            # Only keep non-empty cleaned skills\n",
        "            if cleaned_skill:\n",
        "                cleaned_skills.append(cleaned_skill)\n",
        "\n",
        "    return cleaned_skills\n",
        "\n",
        "preprocess_skills_udf = udf(preprocess_skills, ArrayType(StringType()))\n",
        "\n",
        "\n",
        "df = df.withColumn(\"cleaned_skills\", preprocess_skills_udf(col(\"skills\")))\n",
        "df = df.filter(df.cleaned_skills.isNotNull())\n",
        "df.show(10, truncate=False)"
      ],
      "metadata": {
        "colab": {
          "base_uri": "https://localhost:8080/"
        },
        "id": "GpvGX9qvxAis",
        "outputId": "d9d15980-d9d8-40fa-b8c3-22662a2128b2"
      },
      "execution_count": 8,
      "outputs": [
        {
          "output_type": "stream",
          "name": "stderr",
          "text": [
            "[nltk_data] Downloading package stopwords to /root/nltk_data...\n",
            "[nltk_data]   Unzipping corpora/stopwords.zip.\n"
          ]
        },
        {
          "output_type": "stream",
          "name": "stdout",
          "text": [
            "+-------------------------------------------------------------------------------------------------------------------------------+------------------------------------------------------------------------------------------------------------------------------------------------------------------------------------------------------------------------------------------------------------------------------------------------------------------------------------------------------------------------------------------------------------------------------------------------------------------------------------------------------------------------------------------------------------------------------------------------------------------------------------------------------------------------------------------------------------------------------+--------------------------------------------------------------------------------------------------------------------------------------------------------------------------------------------------------------------------------------------------------------------------------------------------------------------------------------------------------------------------------------------------------------------------------------------------------------------------------------------------------------------------------------------------------------------------------------------------------------------------------------------------------------------------------------------------------------------------------+--------------------------------------------------------------------------------------------------------------------------------------------------------------------------------------------------------------------------------------------------------------------------------------------------------------------------------------------------------------------------------------------------------------------------------------------------------------------------------------------------------------------------------------------------------------------------------------------------------------------------------------------------------------------------------------------------------------+\n",
            "|job_link                                                                                                                       |job_skills                                                                                                                                                                                                                                                                                                                                                                                                                                                                                                                                                                                                                                                                                                                    |skills                                                                                                                                                                                                                                                                                                                                                                                                                                                                                                                                                                                                                                                                                                                          |cleaned_skills                                                                                                                                                                                                                                                                                                                                                                                                                                                                                                                                                                                                                                                                                                |\n",
            "+-------------------------------------------------------------------------------------------------------------------------------+------------------------------------------------------------------------------------------------------------------------------------------------------------------------------------------------------------------------------------------------------------------------------------------------------------------------------------------------------------------------------------------------------------------------------------------------------------------------------------------------------------------------------------------------------------------------------------------------------------------------------------------------------------------------------------------------------------------------------+--------------------------------------------------------------------------------------------------------------------------------------------------------------------------------------------------------------------------------------------------------------------------------------------------------------------------------------------------------------------------------------------------------------------------------------------------------------------------------------------------------------------------------------------------------------------------------------------------------------------------------------------------------------------------------------------------------------------------------+--------------------------------------------------------------------------------------------------------------------------------------------------------------------------------------------------------------------------------------------------------------------------------------------------------------------------------------------------------------------------------------------------------------------------------------------------------------------------------------------------------------------------------------------------------------------------------------------------------------------------------------------------------------------------------------------------------------+\n",
            "|https://www.linkedin.com/jobs/view/housekeeper-i-pt-at-jacksonville-state-university-3802280436                                |Building Custodial Services, Cleaning, Janitorial Services, Materials Handling, Housekeeping, Sanitation, Waste Management, Floor Maintenance, Equipment Maintenance, Safety Protocols, Communication Skills, Attention to Detail, Physical Strength, Experience in Housekeeping                                                                                                                                                                                                                                                                                                                                                                                                                                              |[Building Custodial Services, Cleaning, Janitorial Services, Materials Handling, Housekeeping, Sanitation, Waste Management, Floor Maintenance, Equipment Maintenance, Safety Protocols, Communication Skills, Attention to Detail, Physical Strength, Experience in Housekeeping]                                                                                                                                                                                                                                                                                                                                                                                                                                              |[building custodial services, cleaning, janitorial services, materials handling, housekeeping, sanitation, waste management, floor maintenance, equipment maintenance, safety protocols, communication skills, attention detail, physical strength, experience housekeeping]                                                                                                                                                                                                                                                                                                                                                                                                                                  |\n",
            "|https://www.linkedin.com/jobs/view/assistant-general-manager-huntington-4131-at-ruby-tuesday-3575032747                        |Customer service, Restaurant management, Food safety, Training, Supervision, Scheduling, Inventory, Cost control, Sales, Communication, Problemsolving, Leadership, Motivation, Teamwork, High School Diploma, Bachelor's Degree, ServSafe Certification, Valid Driver's License, Physical ability to perform job duties                                                                                                                                                                                                                                                                                                                                                                                                      |[Customer service, Restaurant management, Food safety, Training, Supervision, Scheduling, Inventory, Cost control, Sales, Communication, Problemsolving, Leadership, Motivation, Teamwork, High School Diploma, Bachelor's Degree, ServSafe Certification, Valid Driver's License, Physical ability to perform job duties]                                                                                                                                                                                                                                                                                                                                                                                                      |[customer service, restaurant management, food safety, training, supervision, scheduling, inventory, cost control, sales, communication, problemsolving, leadership, motivation, teamwork, high school diploma, bachelors degree, servsafe certification, valid drivers license, physical ability perform job duties]                                                                                                                                                                                                                                                                                                                                                                                         |\n",
            "|https://www.linkedin.com/jobs/view/school-based-behavior-analyst-at-ccres-educational-and-behavioral-health-services-3739544400|Applied Behavior Analysis (ABA), Data analysis, Behavioral assessment, Positive behavior support, Programming development, Progress monitoring, Staff training, Verbal communication, Written communication, Team collaboration, Autism, Emotional/behavioral disorders, Intellectual disabilities, BCBA certification, Masters degree, Professional liability insurance, Clearances (Act 151 Act 34 FBI Use code: 1KG6XN), TB screening, Independent contractor, 1099                                                                                                                                                                                                                                                        |[Applied Behavior Analysis (ABA), Data analysis, Behavioral assessment, Positive behavior support, Programming development, Progress monitoring, Staff training, Verbal communication, Written communication, Team collaboration, Autism, Emotional/behavioral disorders, Intellectual disabilities, BCBA certification, Masters degree, Professional liability insurance, Clearances (Act 151 Act 34 FBI Use code: 1KG6XN), TB screening, Independent contractor, 1099]                                                                                                                                                                                                                                                        |[applied behavior analysis aba, data analysis, behavioral assessment, positive behavior support, programming development, progress monitoring, staff training, verbal communication, written communication, team collaboration, autism, emotionalbehavioral disorders, intellectual disabilities, bcba certification, masters degree, professional liability insurance, clearances act act fbi use code kgxn, tb screening, independent contractor]                                                                                                                                                                                                                                                           |\n",
            "|https://www.linkedin.com/jobs/view/electrical-deputy-engineering-group-supervisor-at-energy-jobline-3773709557                 |Electrical Engineering, Project Controls, Scheduling, Estimating, Engineering Efforts, Planning, Work Packaging, Communication Skills, Verbal Communication, Written Communication, Engineering Tools, Office Automation Tools, Industry Guides, Regulatory Guides, Codes, Standards, Electrical Engineering Design Principles, Electrical Systems, Schematics, Layouts, Engineering Drawings, Systems Calculations, Equipment Sizing, Cable Sizing, Power Systems Load Modeling, Power Systems Analysis, Revit, ETAP, Equipment Configuration Packages, Mechanical Engineering, Process Engineering, CSI Masterformat Specifications, SpecsIntact, Unified Facilities Criteria, Whole Building Design Guide                  |[Electrical Engineering, Project Controls, Scheduling, Estimating, Engineering Efforts, Planning, Work Packaging, Communication Skills, Verbal Communication, Written Communication, Engineering Tools, Office Automation Tools, Industry Guides, Regulatory Guides, Codes, Standards, Electrical Engineering Design Principles, Electrical Systems, Schematics, Layouts, Engineering Drawings, Systems Calculations, Equipment Sizing, Cable Sizing, Power Systems Load Modeling, Power Systems Analysis, Revit, ETAP, Equipment Configuration Packages, Mechanical Engineering, Process Engineering, CSI Masterformat Specifications, SpecsIntact, Unified Facilities Criteria, Whole Building Design Guide]                  |[electrical engineering, project controls, scheduling, estimating, engineering efforts, planning, work packaging, communication skills, verbal communication, written communication, engineering tools, office automation tools, industry guides, regulatory guides, codes, standards, electrical engineering design principles, electrical systems, schematics, layouts, engineering drawings, systems calculations, equipment sizing, cable sizing, power systems load modeling, power systems analysis, revit, etap, equipment configuration packages, mechanical engineering, process engineering, csi masterformat specifications, specsintact, unified facilities criteria, whole building design guide]|\n",
            "|https://www.linkedin.com/jobs/view/electrical-assembly-lead-at-sanmina-3704300377                                              |Electrical Assembly, Point to point wiring, Stripping and crimping of wiring, Reading blueprints and SOPs, Leadership skills, Communication skills, Directing and training employees, Problem solving, Excellent attendance, 46 years of related experience, High School or GED                                                                                                                                                                                                                                                                                                                                                                                                                                               |[Electrical Assembly, Point to point wiring, Stripping and crimping of wiring, Reading blueprints and SOPs, Leadership skills, Communication skills, Directing and training employees, Problem solving, Excellent attendance, 46 years of related experience, High School or GED]                                                                                                                                                                                                                                                                                                                                                                                                                                               |[electrical assembly, point point wiring, stripping, crimping wiring, reading blueprints, sops, leadership skills, communication skills, directing, training employees, problem solving, excellent attendance, years related experience, high school ged]                                                                                                                                                                                                                                                                                                                                                                                                                                                     |\n",
            "|https://www.linkedin.com/jobs/view/senior-lead-technician-programmer-at-security-101-3785441848                                |Access Control, Video Management Systems, IPbased video systems, Intrusion Alarm Systems, SQL, Databases, Genetec, Software House, Avigilon Unity, Avigilon Alta, Brivo, Milestone, SIP IP Phone Systems, Quality Control, Customer Service, Project Progress Tracking, Electronics Training, Technical School, Military Training                                                                                                                                                                                                                                                                                                                                                                                             |[Access Control, Video Management Systems, IPbased video systems, Intrusion Alarm Systems, SQL, Databases, Genetec, Software House, Avigilon Unity, Avigilon Alta, Brivo, Milestone, SIP IP Phone Systems, Quality Control, Customer Service, Project Progress Tracking, Electronics Training, Technical School, Military Training]                                                                                                                                                                                                                                                                                                                                                                                             |[access control, video management systems, ipbased video systems, intrusion alarm systems, sql, databases, genetec, software house, avigilon unity, avigilon alta, brivo, milestone, sip ip phone systems, quality control, customer service, project progress tracking, electronics training, technical school, military training]                                                                                                                                                                                                                                                                                                                                                                           |\n",
            "|https://www.linkedin.com/jobs/view/program-consultant-at-methodist-family-health-3588621456                                    |Consultation, Supervision, InService Training, PreService Training, Youth Intake, Individual Treatment Plans, Program Development, Data Collection, Quality Control Programs, Performance Evaluations, Staff Recruitment and Selection, Emergency Consultation, Quality Improvement, Joint Commission Standards, TFM Certification, SelfMotivation, High Stress Tolerance, Fast Paced Work Environment, Minimal Supervision, Auditory Ability, Visual Ability, Olfactory Ability, Physical Stamina, Computer Literacy, Communication Skills, Reading and Writing Skills, Clinical Duties, COVID19 Vaccination, Flu Shot                                                                                                       |[Consultation, Supervision, InService Training, PreService Training, Youth Intake, Individual Treatment Plans, Program Development, Data Collection, Quality Control Programs, Performance Evaluations, Staff Recruitment and Selection, Emergency Consultation, Quality Improvement, Joint Commission Standards, TFM Certification, SelfMotivation, High Stress Tolerance, Fast Paced Work Environment, Minimal Supervision, Auditory Ability, Visual Ability, Olfactory Ability, Physical Stamina, Computer Literacy, Communication Skills, Reading and Writing Skills, Clinical Duties, COVID19 Vaccination, Flu Shot]                                                                                                       |[consultation, supervision, inservice training, preservice training, youth intake, individual treatment plans, program development, data collection, quality control programs, performance evaluations, staff recruitment, selection, emergency consultation, quality improvement, joint commission standards, tfm certification, selfmotivation, high stress tolerance, fast paced work environment, minimal supervision, auditory ability, visual ability, olfactory ability, physical stamina, computer literacy, communication skills, reading, writing skills, clinical duties, covid vaccination, flu shot]                                                                                             |\n",
            "|https://www.linkedin.com/jobs/view/veterinary-receptionist-at-wellhaven-pet-health-3803807922                                  |Veterinary Receptionist, AAHAaccredited, Customer service, Communication skills, Organizational skills, Problemsolving skills, Time management skills, Ability to work independently, Ability to multitask, Ability to work in a fastpaced environment, Ability to learn new computer software systems, Ability to handle dogs cats and exotic animals, Typing 40+ wpm, Email systems, Basic MS Office products (Word Excel), High School Diploma or equivalent, 1+ years of customer service experience, 1+ years of experience working with computers, Veterinary experience, Ability to lift 25+ pounds, Ability to stand walk stoop kneel crouch and climb, Ability to work extended hours including weekends and holidays|[Veterinary Receptionist, AAHAaccredited, Customer service, Communication skills, Organizational skills, Problemsolving skills, Time management skills, Ability to work independently, Ability to multitask, Ability to work in a fastpaced environment, Ability to learn new computer software systems, Ability to handle dogs cats and exotic animals, Typing 40+ wpm, Email systems, Basic MS Office products (Word Excel), High School Diploma or equivalent, 1+ years of customer service experience, 1+ years of experience working with computers, Veterinary experience, Ability to lift 25+ pounds, Ability to stand walk stoop kneel crouch and climb, Ability to work extended hours including weekends and holidays]|[veterinary receptionist, aahaaccredited, customer service, communication skills, organizational skills, problemsolving skills, time management skills, ability work independently, ability multitask, ability work fastpaced environment, ability learn new computer software systems, ability handle dogs cats, exotic animals, typing wpm, email systems, basic ms office products word excel, high school diploma equivalent, years customer service experience, years experience working computers, veterinary experience, ability lift pounds, ability stand walk stoop kneel crouch, climb, ability work extended hours including weekends, holidays]                                                  |\n",
            "|https://www.linkedin.com/jobs/view/sr-technician-receiving-inspection-at-abbott-3799867135                                     |Optical Inspection Equipment Programming, MS Excel, Microsoft Word, FDA regulations, ISO 13485, Gage R&R, NCMR dispositioning, Blueprint reading, Sampling techniques, GD&T, PCB inspection, Quality Systems, Calibration, Test methods, ASQ CQT certification, Data analysis, Report writing                                                                                                                                                                                                                                                                                                                                                                                                                                 |[Optical Inspection Equipment Programming, MS Excel, Microsoft Word, FDA regulations, ISO 13485, Gage R&R, NCMR dispositioning, Blueprint reading, Sampling techniques, GD&T, PCB inspection, Quality Systems, Calibration, Test methods, ASQ CQT certification, Data analysis, Report writing]                                                                                                                                                                                                                                                                                                                                                                                                                                 |[optical inspection equipment programming, ms excel, microsoft word, fda regulations, iso, gage rr, ncmr dispositioning, blueprint reading, sampling techniques, gdt, pcb inspection, quality systems, calibration, test methods, asq cqt certification, data analysis, report writing]                                                                                                                                                                                                                                                                                                                                                                                                                       |\n",
            "|https://www.linkedin.com/jobs/view/experienced-hvac-service-technician-at-lane-valente-industries-3798208587                   |HVAC, troubleshooting, Preventative maintenance, Inspections, Repairs, Record keeping, Parts management, Time management, Travel                                                                                                                                                                                                                                                                                                                                                                                                                                                                                                                                                                                              |[HVAC, troubleshooting, Preventative maintenance, Inspections, Repairs, Record keeping, Parts management, Time management, Travel]                                                                                                                                                                                                                                                                                                                                                                                                                                                                                                                                                                                              |[hvac, troubleshooting, preventative maintenance, inspections, repairs, record keeping, parts management, time management, travel]                                                                                                                                                                                                                                                                                                                                                                                                                                                                                                                                                                            |\n",
            "+-------------------------------------------------------------------------------------------------------------------------------+------------------------------------------------------------------------------------------------------------------------------------------------------------------------------------------------------------------------------------------------------------------------------------------------------------------------------------------------------------------------------------------------------------------------------------------------------------------------------------------------------------------------------------------------------------------------------------------------------------------------------------------------------------------------------------------------------------------------------+--------------------------------------------------------------------------------------------------------------------------------------------------------------------------------------------------------------------------------------------------------------------------------------------------------------------------------------------------------------------------------------------------------------------------------------------------------------------------------------------------------------------------------------------------------------------------------------------------------------------------------------------------------------------------------------------------------------------------------+--------------------------------------------------------------------------------------------------------------------------------------------------------------------------------------------------------------------------------------------------------------------------------------------------------------------------------------------------------------------------------------------------------------------------------------------------------------------------------------------------------------------------------------------------------------------------------------------------------------------------------------------------------------------------------------------------------------+\n",
            "only showing top 10 rows\n",
            "\n"
          ]
        }
      ]
    },
    {
      "cell_type": "code",
      "source": [
        "start_time = time.time()\n",
        "df2 = df.sample(fraction=0.1, seed=42)\n",
        "\n",
        "skills_rdd = df2.select(\"cleaned_skills\").rdd.flatMap(list)\n",
        "small_skills_list = skills_rdd.sample(False, 0.1, seed=42).collect()\n",
        "\n",
        "timing_info(start_time, \"Sampling the dataset and Creating RDD\")"
      ],
      "metadata": {
        "id": "91ymkMwyxDCU"
      },
      "execution_count": null,
      "outputs": []
    },
    {
      "cell_type": "code",
      "source": [
        "import pandas as pd\n",
        "from mlxtend.preprocessing import TransactionEncoder\n",
        "from mlxtend.frequent_patterns import apriori\n",
        "\n",
        "start_time = time.time()\n",
        "\n",
        "#Convert the skills into a binary matrix\n",
        "encoded_skills = TransactionEncoder().fit(small_skills_list).transform(small_skills_list)\n",
        "\n",
        "cols = TransactionEncoder().fit(small_skills_list).columns_\n",
        "df_encoded = pd.DataFrame(encoded_skills, columns= cols)\n",
        "frequent_itemsets_apriori = apriori(df_encoded, min_support=0.01, use_colnames=True)\n",
        "\n",
        "# Calculate the count of each itemset\n",
        "total_transactions = len(small_skills_list)\n",
        "frequent_itemsets_apriori['count'] = (frequent_itemsets_apriori['support'] * total_transactions).round().astype(int)\n",
        "\n",
        "print(frequent_itemsets_apriori)\n",
        "timing_info(start_time, \"Apply Apriori algorithm\")\n"
      ],
      "metadata": {
        "id": "Jrs5gtHnxGKc"
      },
      "execution_count": null,
      "outputs": []
    },
    {
      "cell_type": "code",
      "source": [
        "from mlxtend.frequent_patterns import association_rules\n",
        "# Generate the association rules\n",
        "rules = association_rules(frequent_itemsets_apriori, metric=\"confidence\", min_threshold=0.5)\n",
        "\n",
        "# Add the count column\n",
        "rules[\"antecedent_count\"] = rules[\"antecedents\"].apply(lambda x: len(x))\n",
        "rules[\"consequent_count\"] = rules[\"consequents\"].apply(lambda x: len(x))\n",
        "\n",
        "rules_df = pd.DataFrame(rules).sort_values(by='confidence', ascending=False).reset_index(drop=True)"
      ],
      "metadata": {
        "id": "RQvUBE5XxIM0"
      },
      "execution_count": null,
      "outputs": []
    },
    {
      "cell_type": "code",
      "source": [
        "import networkx as nx\n",
        "import matplotlib.pyplot as plt\n",
        "\n",
        "# Helper function to wrap text\n",
        "def wrap_text(text, width=10):\n",
        "    return '\\n'.join(text[i:i+width] for i in range(0, len(text), width))\n",
        "\n",
        "# Create a directed graph\n",
        "G = nx.DiGraph()\n",
        "\n",
        "# Add edges\n",
        "for _, row in rules_df.iterrows():\n",
        "    for antecedent in row['antecedents']:\n",
        "        for consequent in row['consequents']:\n",
        "            G.add_edge(wrap_text(antecedent), wrap_text(consequent))\n",
        "\n",
        "# Draw the graph\n",
        "pos = nx.spring_layout(G, k=3, iterations=50)\n",
        "plt.figure(figsize=(20, 15))\n",
        "nx.draw(G, pos, with_labels=True, node_size=3000, node_color='skyblue', font_size=10, font_weight='bold', arrowsize=20)\n",
        "plt.title(\"Association Rules Network Graph\")\n",
        "plt.show()\n"
      ],
      "metadata": {
        "id": "uZ9O9lDHxhj0"
      },
      "execution_count": null,
      "outputs": []
    },
    {
      "cell_type": "code",
      "source": [
        "from wordcloud import WordCloud\n",
        "\n",
        "frequent_itemsets_apriori_df = pd.read_csv(csv_file_path)\n",
        "\n",
        "# Extract word counts\n",
        "word_counts = {}\n",
        "for _, row in frequent_itemsets_apriori_df.iterrows():\n",
        "    itemset = row['itemsets'].strip('{}').split(', ')\n",
        "    count = row['count']\n",
        "    for item in itemset:\n",
        "        if item in word_counts:\n",
        "            word_counts[item] += count\n",
        "        else:\n",
        "            word_counts[item] = count\n",
        "\n",
        "\n",
        "wordcloud = WordCloud(width=800, height=400, background_color='white').generate_from_frequencies(word_counts)\n",
        "\n",
        "plt.figure(figsize=(15, 10))\n",
        "plt.imshow(wordcloud, interpolation='bilinear')\n",
        "plt.axis('off')\n",
        "plt.show()"
      ],
      "metadata": {
        "id": "9pyIviJFxmKN"
      },
      "execution_count": null,
      "outputs": []
    }
  ]
}